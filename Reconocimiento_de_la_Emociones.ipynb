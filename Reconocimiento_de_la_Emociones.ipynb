{
  "cells": [
    {
      "cell_type": "markdown",
      "metadata": {
        "id": "iDhb2A3o2G2O"
      },
      "source": [
        "# Reconocimiento de emociones por imágenes\n",
        "\n",
        "Este proyecto tiene como objetivo crear un modelo de red neuronal para reconocer si una persona está feliz o no en una imagen. Usaremos el dataset FER-2013 para entrenar un modelo multi-perceptrón y luego haremos predicciones con nuevas imágenes. El modelo será entrenado para clasificar las emociones en dos categorías: \"Feliz\" y \"No Feliz\"."
      ]
    },
    {
      "cell_type": "markdown",
      "metadata": {
        "id": "9WIDO2Gn2G2T"
      },
      "source": [
        "## Importar Librerías Necesarias"
      ]
    },
    {
      "cell_type": "code",
      "execution_count": null,
      "metadata": {
        "id": "wUfA77CX2G2T"
      },
      "outputs": [],
      "source": [
        "import numpy as np\n",
        "import pandas as pd\n",
        "import matplotlib.pyplot as plt\n",
        "import tensorflow as tf\n",
        "from tensorflow.keras.models import Sequential\n",
        "from tensorflow.keras.layers import Dense, Flatten\n",
        "from tensorflow.keras.utils import to_categorical\n",
        "from sklearn.model_selection import train_test_split\n",
        "from sklearn.metrics import confusion_matrix, classification_report\n",
        "import cv2\n",
        "import os"
      ]
    },
    {
      "cell_type": "markdown",
      "metadata": {
        "id": "cSETuLNz2G2U"
      },
      "source": [
        "## Cargar y Preprocesamiento de los Datos"
      ]
    },
    {
      "cell_type": "code",
      "execution_count": null,
      "metadata": {
        "id": "nNEby_lF2G2U"
      },
      "outputs": [],
      "source": [
        "# Carga del dataset FER-2013\n",
        "data = pd.read_csv('/content/train/dataset/fer2013.csv')\n",
        "\n",
        "# Filtrar las imágenes etiquetadas como \"feliz\"\n",
        "happy_data = data[data['emotion'] == 3].copy()\n",
        "not_happy_data = data[data['emotion'] != 3].copy()\n",
        "\n",
        "# Convertir todas las etiquetas \"feliz\" a 1 y las demás a 0\n",
        "happy_data.loc[:, 'emotion'] = 1\n",
        "not_happy_data.loc[:, 'emotion'] = 0\n",
        "\n",
        "# Combinar los dos dataframes\n",
        "binary_data = pd.concat([happy_data, not_happy_data])\n",
        "\n",
        "# Función para preprocesar las imágenes\n",
        "def preprocess_images(images):\n",
        "    images = images.apply(lambda x: np.fromstring(x, sep=' '))\n",
        "    images = np.stack(images, axis=0)\n",
        "    images = images.reshape((-1, 48, 48, 1))\n",
        "    images = images / 255.0  # Normalizar las imágenes\n",
        "    return images\n",
        "\n",
        "X = preprocess_images(binary_data['pixels'])\n",
        "y = binary_data['emotion'].values\n",
        "\n",
        "# Convertir las etiquetas a categóricas (binarias)\n",
        "y = to_categorical(y, num_classes=2)\n",
        "\n",
        "# Dividir el dataset en entrenamiento y prueba\n",
        "X_train, X_test, y_train, y_test = train_test_split(X, y, test_size=0.2, random_state=42)"
      ]
    },
    {
      "cell_type": "markdown",
      "metadata": {
        "id": "uW_LMcRo2G2W"
      },
      "source": [
        "## Construccion del Modelo y Entrenamiento"
      ]
    },
    {
      "cell_type": "code",
      "execution_count": null,
      "metadata": {
        "id": "7pXZfEZ62G2W",
        "outputId": "ec5dbf3b-0e66-4424-d100-761134eb0b71",
        "colab": {
          "base_uri": "https://localhost:8080/"
        }
      },
      "outputs": [
        {
          "output_type": "stream",
          "name": "stdout",
          "text": [
            "Epoch 1/10\n",
            "898/898 [==============================] - 13s 13ms/step - loss: 0.5440 - accuracy: 0.7464 - val_loss: 0.5243 - val_accuracy: 0.7445\n",
            "Epoch 2/10\n",
            "898/898 [==============================] - 13s 14ms/step - loss: 0.5039 - accuracy: 0.7583 - val_loss: 0.5621 - val_accuracy: 0.6967\n",
            "Epoch 3/10\n",
            "898/898 [==============================] - 9s 10ms/step - loss: 0.4950 - accuracy: 0.7676 - val_loss: 0.5388 - val_accuracy: 0.7487\n",
            "Epoch 4/10\n",
            "898/898 [==============================] - 9s 10ms/step - loss: 0.4778 - accuracy: 0.7795 - val_loss: 0.4775 - val_accuracy: 0.7777\n",
            "Epoch 5/10\n",
            "898/898 [==============================] - 6s 7ms/step - loss: 0.4684 - accuracy: 0.7840 - val_loss: 0.4834 - val_accuracy: 0.7738\n",
            "Epoch 6/10\n",
            "898/898 [==============================] - 9s 10ms/step - loss: 0.4633 - accuracy: 0.7862 - val_loss: 0.4847 - val_accuracy: 0.7697\n",
            "Epoch 7/10\n",
            "898/898 [==============================] - 7s 8ms/step - loss: 0.4634 - accuracy: 0.7889 - val_loss: 0.4641 - val_accuracy: 0.7845\n",
            "Epoch 8/10\n",
            "898/898 [==============================] - 6s 7ms/step - loss: 0.4585 - accuracy: 0.7924 - val_loss: 0.4622 - val_accuracy: 0.7878\n",
            "Epoch 9/10\n",
            "898/898 [==============================] - 10s 11ms/step - loss: 0.4556 - accuracy: 0.7920 - val_loss: 0.4775 - val_accuracy: 0.7785\n",
            "Epoch 10/10\n",
            "898/898 [==============================] - 6s 7ms/step - loss: 0.4516 - accuracy: 0.7960 - val_loss: 0.4662 - val_accuracy: 0.7834\n"
          ]
        }
      ],
      "source": [
        "# Definir el modelo de red neuronal multi-perceptrón\n",
        "model = Sequential([\n",
        "    Flatten(input_shape=(48, 48, 1)),\n",
        "    Dense(128, activation='relu'),\n",
        "    Dense(64, activation='relu'),\n",
        "    Dense(2, activation='softmax')  # Dos neuronas en la capa de salida\n",
        "])\n",
        "\n",
        "# Compilar el modelo\n",
        "model.compile(optimizer='adam', loss='categorical_crossentropy', metrics=['accuracy'])\n",
        "\n",
        "# Entrenar el modelo\n",
        "model.fit(X_train, y_train, epochs=10, batch_size=32, validation_data=(X_test, y_test))\n",
        "\n",
        "# Guardar el modelo\n",
        "model.save('emotion_recognition_model.keras')"
      ]
    },
    {
      "cell_type": "markdown",
      "source": [
        "## Prueba de Rendimiento"
      ],
      "metadata": {
        "id": "hFXRCQfsHObK"
      }
    },
    {
      "cell_type": "code",
      "source": [
        "# Cargar el modelo guardado\n",
        "model = tf.keras.models.load_model('emotion_recognition_model.keras')\n",
        "\n",
        "# Evaluar el rendimiento del modelo en el conjunto de prueba\n",
        "loss, accuracy = model.evaluate(X_test, y_test)\n",
        "print(f'Precisión en el conjunto de prueba: {accuracy * 100:.2f}%')\n",
        "\n",
        "# Hacer predicciones en el conjunto de prueba\n",
        "y_pred = model.predict(X_test)\n",
        "y_pred_classes = np.argmax(y_pred, axis=1)\n",
        "y_true_classes = np.argmax(y_test, axis=1)\n",
        "\n",
        "# Calcular la matriz de confusión\n",
        "conf_matrix = confusion_matrix(y_true_classes, y_pred_classes)\n",
        "print('Matriz de confusión:')\n",
        "print(conf_matrix)\n",
        "\n",
        "# Calcular el reporte de clasificación\n",
        "class_report = classification_report(y_true_classes, y_pred_classes, target_names=['No Feliz', 'Feliz'])\n",
        "print('Reporte de clasificación:')\n",
        "print(class_report)"
      ],
      "metadata": {
        "id": "Fc4rdZVvHSIA",
        "colab": {
          "base_uri": "https://localhost:8080/"
        },
        "outputId": "dae37ae3-36b3-4268-ceb8-d8577b2df898"
      },
      "execution_count": null,
      "outputs": [
        {
          "output_type": "stream",
          "name": "stdout",
          "text": [
            "225/225 [==============================] - 2s 5ms/step - loss: 0.4662 - accuracy: 0.7834\n",
            "Precisión en el conjunto de prueba: 78.34%\n",
            "225/225 [==============================] - 1s 5ms/step\n",
            "Matriz de confusión:\n",
            "[[4902  444]\n",
            " [1111  721]]\n",
            "Reporte de clasificación:\n",
            "              precision    recall  f1-score   support\n",
            "\n",
            "    No Feliz       0.82      0.92      0.86      5346\n",
            "       Feliz       0.62      0.39      0.48      1832\n",
            "\n",
            "    accuracy                           0.78      7178\n",
            "   macro avg       0.72      0.66      0.67      7178\n",
            "weighted avg       0.77      0.78      0.77      7178\n",
            "\n"
          ]
        }
      ]
    },
    {
      "cell_type": "markdown",
      "metadata": {
        "id": "179w13hC2G2Y"
      },
      "source": [
        "## Predecir Nuevas Imágenes"
      ]
    },
    {
      "cell_type": "code",
      "execution_count": null,
      "metadata": {
        "id": "9lMNb7jx2G2Z",
        "colab": {
          "base_uri": "https://localhost:8080/"
        },
        "outputId": "3ae5ff93-2c34-4740-abe2-f9777a52b8cc"
      },
      "outputs": [
        {
          "output_type": "stream",
          "name": "stdout",
          "text": [
            "1/1 [==============================] - 0s 106ms/step\n",
            "Emoción predicha: Feliz\n"
          ]
        }
      ],
      "source": [
        "# Cargar el modelo guardado\n",
        "model = tf.keras.models.load_model('emotion_recognition_model.keras')\n",
        "\n",
        "# Función para preprocesar nuevas imágenes\n",
        "def preprocess_new_image(image_path):\n",
        "    img = cv2.imread(image_path, cv2.IMREAD_GRAYSCALE)\n",
        "    img = cv2.resize(img, (48, 48))\n",
        "    img = img / 255.0\n",
        "    img = img.reshape(1, 48, 48, 1)\n",
        "    return img\n",
        "\n",
        "# Cargar y preprocesar una nueva imagen\n",
        "new_image_path = '/content/validation/images/happy_02.jpg'\n",
        "new_image = preprocess_new_image(new_image_path)\n",
        "\n",
        "# Hacer la predicción\n",
        "prediction = model.predict(new_image)\n",
        "predicted_class = np.argmax(prediction)\n",
        "\n",
        "# Mostrar el resultado\n",
        "emotions = ['No Feliz', 'Feliz']\n",
        "print(f'Emoción predicha: {emotions[predicted_class]}')"
      ]
    }
  ],
  "metadata": {
    "kernelspec": {
      "display_name": "Python 3 (ipykernel)",
      "language": "python",
      "name": "python3"
    },
    "language_info": {
      "codemirror_mode": {
        "name": "ipython",
        "version": 3
      },
      "file_extension": ".py",
      "mimetype": "text/x-python",
      "name": "python",
      "nbconvert_exporter": "python",
      "pygments_lexer": "ipython3",
      "version": "3.11.8"
    },
    "colab": {
      "provenance": []
    }
  },
  "nbformat": 4,
  "nbformat_minor": 0
}